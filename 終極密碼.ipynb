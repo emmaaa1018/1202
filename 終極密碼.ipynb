{
 "cells": [
  {
   "cell_type": "code",
   "execution_count": 16,
   "metadata": {},
   "outputs": [],
   "source": [
    "%matplotlib inline\n",
    "\n",
    "import numpy as np\n",
    "import pandas as pd\n",
    "import matplotlib.pyplot as plt\n",
    "from random import randint "
   ]
  },
  {
   "cell_type": "markdown",
   "metadata": {},
   "source": [
    "### 規定範圍並產生密碼"
   ]
  },
  {
   "cell_type": "code",
   "execution_count": 19,
   "metadata": {},
   "outputs": [],
   "source": [
    "lowest = 1\n",
    "highest = 100\n",
    "answer = randint(lowest, highest)"
   ]
  },
  {
   "cell_type": "markdown",
   "metadata": {},
   "source": [
    "### 重複猜數字，直到猜對為止"
   ]
  },
  {
   "cell_type": "code",
   "execution_count": null,
   "metadata": {},
   "outputs": [],
   "source": [
    "while True:\n",
    "    guess = input('密碼介於 ' + str(lowest) + '-' + str(highest) + ':\\n>>')\n",
    " \n",
    "    #檢查輸入的內容是否為數字\n",
    "    try:\n",
    "        guess = int(guess)  #把字串轉換成整數\n",
    "    except ValueError:  #轉換失敗便要求重新輸入數字\n",
    "        print('格式錯誤，請輸入數字\\n')\n",
    "        continue\n",
    " \n",
    "        #檢查輸入的數字是否介於規定範圍內\n",
    "    if guess <= lowest or guess >= highest:\n",
    "        print('請輸入 ' + str(lowest) + '-' + str(highest) + ' 之間的整數\\n')\n",
    "        continue\n",
    " \n",
    "        #判斷有沒有猜中密碼\n",
    "    if guess == answer:\n",
    "        print('答對了！')\n",
    "        break   #猜對才跳脫迴圈\n",
    "    elif guess < answer:\n",
    "        lowest = guess\n",
    "    else:\n",
    "        highest = guess"
   ]
  },
  {
   "cell_type": "code",
   "execution_count": null,
   "metadata": {},
   "outputs": [],
   "source": []
  },
  {
   "cell_type": "code",
   "execution_count": null,
   "metadata": {},
   "outputs": [],
   "source": []
  },
  {
   "cell_type": "code",
   "execution_count": null,
   "metadata": {},
   "outputs": [],
   "source": []
  },
  {
   "cell_type": "code",
   "execution_count": null,
   "metadata": {},
   "outputs": [],
   "source": []
  }
 ],
 "metadata": {
  "kernelspec": {
   "display_name": "Python 3",
   "language": "python",
   "name": "python3"
  },
  "language_info": {
   "codemirror_mode": {
    "name": "ipython",
    "version": 3
   },
   "file_extension": ".py",
   "mimetype": "text/x-python",
   "name": "python",
   "nbconvert_exporter": "python",
   "pygments_lexer": "ipython3",
   "version": "3.7.3"
  }
 },
 "nbformat": 4,
 "nbformat_minor": 2
}
